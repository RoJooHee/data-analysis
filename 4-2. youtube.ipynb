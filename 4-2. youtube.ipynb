{
 "cells": [
  {
   "cell_type": "code",
   "execution_count": 1,
   "metadata": {},
   "outputs": [],
   "source": [
    "from selenium import webdriver"
   ]
  },
  {
   "cell_type": "code",
   "execution_count": 2,
   "metadata": {},
   "outputs": [],
   "source": [
    "driver=webdriver.Chrome('C:/Users/joohee/Documents/DataScience/driver/chromedriver')\n",
    "driver.get(\"https://www.youtube.com/results?search_query=%EC%A0%A4%EB%A6%AC%EB%A8%B9%EB%B0%A9\")  #제목 채널이름 조회수"
   ]
  },
  {
   "cell_type": "code",
   "execution_count": 3,
   "metadata": {},
   "outputs": [],
   "source": [
    "from bs4 import BeautifulSoup\n",
    "html=driver.page_source  #접근한 페이지의 소스 넘겨받음\n",
    "soup=BeautifulSoup(html, 'html.parser')"
   ]
  },
  {
   "cell_type": "code",
   "execution_count": 4,
   "metadata": {},
   "outputs": [
    {
     "data": {
      "text/plain": [
       "'공대생 변승주 DS'"
      ]
     },
     "execution_count": 4,
     "metadata": {},
     "output_type": "execute_result"
    }
   ],
   "source": [
    "list_raw=driver.find_element_by_xpath(\"\"\"//*[@id=\"text\"]/a\"\"\")\n",
    "list_raw.text"
   ]
  },
  {
   "cell_type": "code",
   "execution_count": 5,
   "metadata": {},
   "outputs": [
    {
     "ename": "NameError",
     "evalue": "name 'div' is not defined",
     "output_type": "error",
     "traceback": [
      "\u001b[1;31m---------------------------------------------------------------------------\u001b[0m",
      "\u001b[1;31mNameError\u001b[0m                                 Traceback (most recent call last)",
      "\u001b[1;32m<ipython-input-5-1c330d6ae2c2>\u001b[0m in \u001b[0;36m<module>\u001b[1;34m\u001b[0m\n\u001b[1;32m----> 1\u001b[1;33m \u001b[0mdiv\u001b[0m\u001b[1;33m[\u001b[0m\u001b[1;36m3\u001b[0m\u001b[1;33m]\u001b[0m\u001b[1;33m/\u001b[0m\u001b[0mytd\u001b[0m\u001b[1;33m-\u001b[0m\u001b[0mvideo\u001b[0m\u001b[1;33m-\u001b[0m\u001b[0mrenderer\u001b[0m\u001b[1;33m[\u001b[0m\u001b[1;36m1\u001b[0m\u001b[1;33m]\u001b[0m\u001b[1;33m\u001b[0m\u001b[1;33m\u001b[0m\u001b[0m\n\u001b[0m\u001b[0;32m      2\u001b[0m \u001b[0mdiv\u001b[0m\u001b[1;33m[\u001b[0m\u001b[1;36m3\u001b[0m\u001b[1;33m]\u001b[0m\u001b[1;33m/\u001b[0m\u001b[0mytd\u001b[0m\u001b[1;33m-\u001b[0m\u001b[0mvideo\u001b[0m\u001b[1;33m-\u001b[0m\u001b[0mrenderer\u001b[0m\u001b[1;33m[\u001b[0m\u001b[1;36m2\u001b[0m\u001b[1;33m]\u001b[0m\u001b[1;33m\u001b[0m\u001b[1;33m\u001b[0m\u001b[0m\n\u001b[0;32m      3\u001b[0m \u001b[0mdiv\u001b[0m\u001b[1;33m[\u001b[0m\u001b[1;36m3\u001b[0m\u001b[1;33m]\u001b[0m\u001b[1;33m/\u001b[0m\u001b[0mytd\u001b[0m\u001b[1;33m-\u001b[0m\u001b[0mvideo\u001b[0m\u001b[1;33m-\u001b[0m\u001b[0mrenderer\u001b[0m\u001b[1;33m[\u001b[0m\u001b[1;36m3\u001b[0m\u001b[1;33m]\u001b[0m\u001b[1;33m\u001b[0m\u001b[1;33m\u001b[0m\u001b[0m\n",
      "\u001b[1;31mNameError\u001b[0m: name 'div' is not defined"
     ]
    }
   ],
   "source": [
    "div[3]/ytd-video-renderer[1]\n",
    "div[3]/ytd-video-renderer[2]\n",
    "div[3]/ytd-video-renderer[3]"
   ]
  },
  {
   "cell_type": "code",
   "execution_count": 6,
   "metadata": {},
   "outputs": [
    {
     "ename": "SyntaxError",
     "evalue": "invalid syntax (<ipython-input-6-10801df31fd3>, line 3)",
     "output_type": "error",
     "traceback": [
      "\u001b[1;36m  File \u001b[1;32m\"<ipython-input-6-10801df31fd3>\"\u001b[1;36m, line \u001b[1;32m3\u001b[0m\n\u001b[1;33m    print(\"제목 :\" list_raw.text)\u001b[0m\n\u001b[1;37m                        ^\u001b[0m\n\u001b[1;31mSyntaxError\u001b[0m\u001b[1;31m:\u001b[0m invalid syntax\n"
     ]
    }
   ],
   "source": [
    "for i in range(1,6,1):\n",
    "    list_raw=driver.find_element_by_xpath(\"\"\"div[3]/ytd-video-renderer[{}]\"\"\".format(i))\n",
    "    print(\"제목 :\" list_raw.text)\n",
    "    "
   ]
  },
  {
   "cell_type": "code",
   "execution_count": 7,
   "metadata": {},
   "outputs": [
    {
     "data": {
      "text/plain": [
       "'한국 사람도 모르는 \"외국에서 유명한 한국 먹방 음식 2탄\" ㅋㅋㅋㅋㅋ [신기한 젤리 먹방]\\n공대생 변승주 DS\\n•\\n조회수 24만회\\n18시간 전\\n위대하신알고리즘님 #저도해외진출 #시켜주세요 #특이한 #젤리 #먹방 문의는 gds@videovillage.co.kr hjsbjh2@gmail.com 으로 ...\\n새 동영상'"
      ]
     },
     "execution_count": 7,
     "metadata": {},
     "output_type": "execute_result"
    }
   ],
   "source": [
    "a  = '/html/body/ytd-app/div/ytd-page-manager/ytd-search/div[1]/ytd-two-column-search-results-renderer/div/ytd-section-list-renderer/div[2]/ytd-item-section-renderer/div[3]/ytd-video-renderer[1]/div[1]/div'\n",
    "list_raw=driver.find_element_by_xpath(a)\n",
    "list_raw.text"
   ]
  },
  {
   "cell_type": "code",
   "execution_count": 44,
   "metadata": {
    "scrolled": true
   },
   "outputs": [
    {
     "data": {
      "text/plain": [
       "['ASMR BLUE DESSERTS *스노볼 마시멜로우, 닉클립 왁스병, 보석젤리 JUICY DROP, NIK-L-NIP WAX BOTTLE EATING SOUNDS 먹방',\n",
       " 'Hongyu ASMR 홍유',\n",
       " '•',\n",
       " '조회수 84만회',\n",
       " '19시간 전',\n",
       " '직접만든 다이아몬드 코하쿠토, 보석젤리, 닉클립 왁스스틱, 왁스병, 지구젤리, 축구공젤리, 하늘색 호스티스 스노볼 마시멜로우,...',\n",
       " '새 동영상']"
      ]
     },
     "execution_count": 44,
     "metadata": {},
     "output_type": "execute_result"
    }
   ],
   "source": [
    "list_raw.text.split('\\n')"
   ]
  },
  {
   "cell_type": "code",
   "execution_count": 38,
   "metadata": {},
   "outputs": [
    {
     "name": "stdout",
     "output_type": "stream",
     "text": [
      "안녕하세요 노주희님짱\n",
      "안녕하세요 노승연님짱\n"
     ]
    }
   ],
   "source": [
    "arr = ['노주희님짱','노승연님짱']\n",
    "for i in arr:\n",
    "#     print(i)\n",
    "    print(\"안녕하세요 {}\".format(i))\n",
    "    \n",
    "# format 함수"
   ]
  },
  {
   "cell_type": "code",
   "execution_count": 25,
   "metadata": {},
   "outputs": [
    {
     "data": {
      "text/plain": [
       "selenium.webdriver.remote.webelement.WebElement"
      ]
     },
     "execution_count": 25,
     "metadata": {},
     "output_type": "execute_result"
    }
   ],
   "source": [
    "type(list_raw)"
   ]
  },
  {
   "cell_type": "code",
   "execution_count": 27,
   "metadata": {},
   "outputs": [
    {
     "data": {
      "text/plain": [
       "str"
      ]
     },
     "execution_count": 27,
     "metadata": {},
     "output_type": "execute_result"
    }
   ],
   "source": [
    "type(list_raw.text)"
   ]
  },
  {
   "cell_type": "code",
   "execution_count": 28,
   "metadata": {},
   "outputs": [
    {
     "data": {
      "text/plain": [
       "\"8월 500%이상 갈 '이 종목' 바이오관련주 급등직전 긴급공개, 주식 제발 좀 따라하세요\""
      ]
     },
     "execution_count": 28,
     "metadata": {},
     "output_type": "execute_result"
    }
   ],
   "source": [
    "(list_raw.text)"
   ]
  }
 ],
 "metadata": {
  "kernelspec": {
   "display_name": "Python 3",
   "language": "python",
   "name": "python3"
  },
  "language_info": {
   "codemirror_mode": {
    "name": "ipython",
    "version": 3
   },
   "file_extension": ".py",
   "mimetype": "text/x-python",
   "name": "python",
   "nbconvert_exporter": "python",
   "pygments_lexer": "ipython3",
   "version": "3.7.4"
  }
 },
 "nbformat": 4,
 "nbformat_minor": 2
}
