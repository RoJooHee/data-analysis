{
 "cells": [
  {
   "cell_type": "code",
   "execution_count": 1,
   "metadata": {},
   "outputs": [],
   "source": [
    "from selenium import webdriver"
   ]
  },
  {
   "cell_type": "code",
   "execution_count": 2,
   "metadata": {},
   "outputs": [],
   "source": [
    "driver=webdriver.Chrome('C:/Users/joohee/Documents/DataScience/driver/chromedriver')\n",
    "driver.get(\"https://www.youtube.com/results?search_query=%EC%A0%95%EC%8A%B9%ED%99%98\")"
   ]
  },
  {
   "cell_type": "code",
   "execution_count": 3,
   "metadata": {},
   "outputs": [],
   "source": [
    "from bs4 import BeautifulSoup\n",
    "html=driver.page_source\n",
    "soup=BeautifulSoup(html, 'html.parser')"
   ]
  },
  {
   "cell_type": "code",
   "execution_count": 4,
   "metadata": {},
   "outputs": [
    {
     "data": {
      "text/plain": [
       "\"🎧정승환 Playlist🎧 '청각으로 힐링타임' 정승환 노래 모음 ｜ 비긴어게인 모아듣기\""
      ]
     },
     "execution_count": 4,
     "metadata": {},
     "output_type": "execute_result"
    }
   ],
   "source": [
    "title=driver.find_element_by_xpath(\"\"\"//*[@id=\"video-title\"]\"\"\")\n",
    "title.text #제목만 xpath"
   ]
  },
  {
   "cell_type": "code",
   "execution_count": 5,
   "metadata": {},
   "outputs": [
    {
     "data": {
      "text/plain": [
       "\"2:38:25\\n🎧정승환 Playlist🎧 '청각으로 힐링타임' 정승환 노래 모음 ｜ 비긴어게인 모아듣기\\nBeginagain 비긴어게인\\n•\\n조회수 20만회\\n3일 전\\n비긴어게인 정승환 Playlist 00:00:00 ♬Falling Slowly 00:03:36 ♬어떻게 이별까지 사랑하겠어, 널 사랑하는 거지 00:08:26 ♬All ...\\n새 동영상\""
      ]
     },
     "execution_count": 5,
     "metadata": {},
     "output_type": "execute_result"
    }
   ],
   "source": [
    "all=driver.find_element_by_xpath(\"\"\"//*[@id=\"dismissable\"]\"\"\")\n",
    "all.text #xpath"
   ]
  },
  {
   "cell_type": "code",
   "execution_count": 8,
   "metadata": {},
   "outputs": [
    {
     "data": {
      "text/plain": [
       "'2:06:12\\n정승환 노래모음 Best30\\n뮤직스타그램\\n•\\n조회수 25만회\\n10개월 전\\n듣고싶은노래 듣고싶은가수 댓글에 적어주세요 구독과 좋아요는 채널의 큰힘이 되어준답니다 본 영상에 사용된 음원은 유튜브 저작권 ...'"
      ]
     },
     "execution_count": 8,
     "metadata": {},
     "output_type": "execute_result"
    }
   ],
   "source": [
    "all=driver.find_element_by_xpath(\"\"\"/html/body/ytd-app/div/ytd-page-manager/ytd-search/div[1]/ytd-two-column-search-results-renderer/div/ytd-section-list-renderer/div[2]/ytd-item-section-renderer/div[3]/ytd-video-renderer[2]/div[1]\"\"\")\n",
    "all.text #full_xpath"
   ]
  },
  {
   "cell_type": "code",
   "execution_count": 9,
   "metadata": {},
   "outputs": [],
   "source": [
    "#full xpath에서 주소 필요부분\n",
    "# 첫번째 : div[3]/ytd-video-renderer[1]/div[1]\n",
    "# 두번째 : div[3]/ytd-video-renderer[2]/div[1]\n",
    "# n번째 : div[3]/ytd-video-renderer[n]/div[1]"
   ]
  },
  {
   "cell_type": "code",
   "execution_count": 10,
   "metadata": {},
   "outputs": [
    {
     "name": "stdout",
     "output_type": "stream",
     "text": [
      "2:38:25\n",
      "🎧정승환 Playlist🎧 '청각으로 힐링타임' 정승환 노래 모음 ｜ 비긴어게인 모아듣기\n",
      "Beginagain 비긴어게인\n",
      "•\n",
      "조회수 20만회\n",
      "3일 전\n",
      "비긴어게인 정승환 Playlist 00:00:00 ♬Falling Slowly 00:03:36 ♬어떻게 이별까지 사랑하겠어, 널 사랑하는 거지 00:08:26 ♬All ...\n",
      "새 동영상\n",
      "\n",
      "\n",
      "2:06:12\n",
      "정승환 노래모음 Best30\n",
      "뮤직스타그램\n",
      "•\n",
      "조회수 25만회\n",
      "10개월 전\n",
      "듣고싶은노래 듣고싶은가수 댓글에 적어주세요 구독과 좋아요는 채널의 큰힘이 되어준답니다 본 영상에 사용된 음원은 유튜브 저작권 ...\n",
      "\n",
      "\n",
      "4:12\n",
      "[MV] Jung Seung Hwan(정승환) _ Whenever Wherever(언제라도 어디에서라도)\n",
      "1theK (원더케이)\n",
      "조회수 57만회\n",
      "1개월 전\n",
      "[MV] Jung Seung Hwan(정승환) _ Whenever Wherever(언제라도 어디에서라도) K-POP Wonderland, 1theK K-POP의 모든 즐거움 ...\n",
      "자막\n",
      "\n",
      "\n",
      "4:37\n",
      "🎤 담담하게 정승환(Jung Seung-hwan)이 전하는 마지막 위로 곡 ′도망가자′♬ 〈비긴어게인 코리아(beginagainkorea)〉 10회\n",
      "Beginagain 비긴어게인\n",
      "•\n",
      "조회수 6.6만회\n",
      "4일 전\n",
      "담담하게 정승환이 전하는 마지막 위로 곡 ′도망가자′♬ ＃비긴어게인코리아 ＃정승환 ＃도망가자.\n",
      "새 동영상\n",
      "\n",
      "\n",
      "4:06\n",
      "🎤 정승환(Jung Seung-hwan)의 감성 깊은 목소리로 부르는 ′희재 (영화 ′국화꽃 향기′ OST)′♩ 〈비긴어게인 코리아(beginagainkorea)〉 5회\n",
      "Beginagain 비긴어게인\n",
      "•\n",
      "조회수 67만회\n",
      "1개월 전\n",
      "정승환의 감성 깊은 목소리로 부르는 ′희재 (영화 ′국화꽃 향기′ OST)′♩ ＃비긴어게인코리아 ＃정승환 ＃희재.\n",
      "\n",
      "\n"
     ]
    }
   ],
   "source": [
    "#전체내용 다 출력\n",
    "for i in range(1,6,1):\n",
    "    a=\"/html/body/ytd-app/div/ytd-page-manager/ytd-search/div[1]/ytd-two-column-search-results-renderer/div/ytd-section-list-renderer/div[2]/ytd-item-section-renderer/div[3]/ytd-video-renderer[{}]/div[1]\".format(i)\n",
    "    list=driver.find_element_by_xpath(a)\n",
    "    print(list.text)\n",
    "    print(\"\\n\")\n"
   ]
  },
  {
   "cell_type": "code",
   "execution_count": 11,
   "metadata": {
    "scrolled": true
   },
   "outputs": [
    {
     "name": "stdout",
     "output_type": "stream",
     "text": [
      "🎧정승환 Playlist🎧 '청각으로 힐링타임' 정승환 노래 모음 ｜ 비긴어게인 모아듣기\n",
      "조회수 20만회\n",
      "\n",
      "\n",
      "정승환 노래모음 Best30\n",
      "조회수 25만회\n",
      "\n",
      "\n",
      "[MV] Jung Seung Hwan(정승환) _ Whenever Wherever(언제라도 어디에서라도)\n",
      "조회수 57만회\n",
      "\n",
      "\n",
      "🎤 담담하게 정승환(Jung Seung-hwan)이 전하는 마지막 위로 곡 ′도망가자′♬ 〈비긴어게인 코리아(beginagainkorea)〉 10회\n",
      "조회수 6.6만회\n",
      "\n",
      "\n",
      "🎤 정승환(Jung Seung-hwan)의 감성 깊은 목소리로 부르는 ′희재 (영화 ′국화꽃 향기′ OST)′♩ 〈비긴어게인 코리아(beginagainkorea)〉 5회\n",
      "조회수 67만회\n",
      "\n",
      "\n"
     ]
    }
   ],
   "source": [
    "#제목이랑 조회수만 출력\n",
    "import re\n",
    "for i in range(1,6,1):\n",
    "    a=\"/html/body/ytd-app/div/ytd-page-manager/ytd-search/div[1]/ytd-two-column-search-results-renderer/div/ytd-section-list-renderer/div[2]/ytd-item-section-renderer/div[3]/ytd-video-renderer[{}]/div[1]\".format(i)\n",
    "    list=driver.find_element_by_xpath(a)\n",
    "    re.split(('\\n'), list.text)\n",
    "    print(re.split(('\\n'), list.text)[1]) #제목\n",
    "    for x in re.split(('\\n'), list.text):\n",
    "        if '조회수' in x:\n",
    "            print(x)  #조회수\n",
    "    print(\"\\n\")"
   ]
  }
 ],
 "metadata": {
  "kernelspec": {
   "display_name": "Python 3",
   "language": "python",
   "name": "python3"
  },
  "language_info": {
   "codemirror_mode": {
    "name": "ipython",
    "version": 3
   },
   "file_extension": ".py",
   "mimetype": "text/x-python",
   "name": "python",
   "nbconvert_exporter": "python",
   "pygments_lexer": "ipython3",
   "version": "3.7.4"
  }
 },
 "nbformat": 4,
 "nbformat_minor": 2
}
